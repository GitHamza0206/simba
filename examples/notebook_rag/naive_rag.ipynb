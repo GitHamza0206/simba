{
 "cells": [
  {
   "cell_type": "code",
   "execution_count": 2,
   "metadata": {},
   "outputs": [
    {
     "data": {
      "text/plain": [
       "'Based on the provided context, John Doe is a passenger holding a boarding pass for a flight. He is scheduled to fly on flight number AF1234 from Paris (CDG) to New York (JFK). His departure is at 10:30 AM on February 15, 2025. He is assigned to gate B12, seat 12A, and is traveling in the Economy class.'"
      ]
     },
     "execution_count": 2,
     "metadata": {},
     "output_type": "execute_result"
    }
   ],
   "source": [
    "\n",
    "from simba.retrieval.retriever import Retriever\n",
    "\n",
    "\n",
    "from langchain_core.prompts import ChatPromptTemplate\n",
    "from langchain_core.output_parsers import StrOutputParser\n",
    "from langchain.chains import create_retrieval_chain\n",
    "from langchain_openai import ChatOpenAI\n",
    "\n",
    "\n",
    "retriever = Retriever().as_retriever()\n",
    "# Initialize the LLM\n",
    "llm = ChatOpenAI(model_name=\"gpt-4o\")\n",
    "\n",
    "# Create the prompt template\n",
    "prompt = ChatPromptTemplate.from_template(\"\"\"Answer the following question based only on the provided context:\n",
    "\n",
    "Context: {context}\n",
    "Question: {question}\n",
    "\n",
    "Answer the question in a helpful and comprehensive way.\"\"\")\n",
    "\n",
    "# Create the response chain\n",
    "#response_chain = prompt | llm | StrOutputParser()\n",
    "\n",
    "retreived_docs = retriever.invoke(\" Who is John? \")\n",
    "\n",
    "def format_docs(docs):\n",
    "    return \"\\n\".join([doc.page_content for doc in docs])\n",
    "\n",
    "chain = prompt | llm | StrOutputParser() \n",
    "chain.invoke({\n",
    "    \"context\": format_docs(retreived_docs),\n",
    "    \"question\": \"Who is John?\"\n",
    "})"
   ]
  },
  {
   "cell_type": "code",
   "execution_count": null,
   "metadata": {},
   "outputs": [],
   "source": [
    "re"
   ]
  }
 ],
 "metadata": {
  "kernelspec": {
   "display_name": ".venv",
   "language": "python",
   "name": "python3"
  },
  "language_info": {
   "codemirror_mode": {
    "name": "ipython",
    "version": 3
   },
   "file_extension": ".py",
   "mimetype": "text/x-python",
   "name": "python",
   "nbconvert_exporter": "python",
   "pygments_lexer": "ipython3",
   "version": "3.12.8"
  }
 },
 "nbformat": 4,
 "nbformat_minor": 2
}
